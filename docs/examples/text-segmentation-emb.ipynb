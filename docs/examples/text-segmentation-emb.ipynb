{
 "cells": [
  {
   "cell_type": "code",
   "execution_count": null,
   "metadata": {},
   "outputs": [],
   "source": [
    "import numpy as np\n",
    "import ruptures as rpt  # our package\n",
    "from os.path import join\n",
    "import matplotlib.pyplot as plt\n",
    "import itertools\n",
    "\n",
    "import re\n",
    "import string\n",
    "import nltk\n",
    "from nltk.tokenize import word_tokenize\n",
    "from nltk.stem import PorterStemmer\n",
    "from nltk.corpus import stopwords\n",
    "from sklearn.feature_extraction.text import CountVectorizer\n",
    "\n",
    "from gensim.models import Word2Vec"
   ]
  },
  {
   "cell_type": "code",
   "execution_count": null,
   "metadata": {},
   "outputs": [],
   "source": [
    "# Downloaded from here : http://web.archive.org/web/20010422042459/http://www.cs.man.ac.uk/~choif/software/C99-1.2-release.tgz\n",
    "# Link found in paper : [Alemi & Ginsparg](https://arxiv.org/pdf/1503.05543.pdf)\n",
    "data_path = \"/Users/OBoulant/Downloads/naacl00Exp/data/1/9-11/\"\n",
    "\n",
    "\n",
    "def read_datafile(path: str, filename: str):\n",
    "    original = []\n",
    "    preprocessed = []\n",
    "    bkps = []\n",
    "    with open(join(path, filename)) as f:\n",
    "        lines = f.readlines()\n",
    "        for i, line in enumerate(lines):\n",
    "            if line == \"==========\\n\":\n",
    "                if len(original) > 0:\n",
    "                    bkps.append(i - 1 - len(bkps))\n",
    "                original.append(line)\n",
    "                continue\n",
    "            else:\n",
    "                # Original\n",
    "                original.append(line)\n",
    "                # Preprocess\n",
    "                line = re.sub(\"'s\", \"\", line)  # Remove \"'s\" strings\n",
    "                line = line.translate(\n",
    "                    str.maketrans(\"\", \"\", string.punctuation)\n",
    "                )  # Remove punctuation\n",
    "                text_tokens = word_tokenize(line)\n",
    "                ps = PorterStemmer()\n",
    "                text_tokens = [ps.stem(word) for word in text_tokens]\n",
    "                tokens_without_sw = [\n",
    "                    word for word in text_tokens if not word in stopwords.words()\n",
    "                ]  # Remove stopwords\n",
    "                # Append new document\n",
    "                preprocessed.append(tokens_without_sw)\n",
    "        return original, bkps, preprocessed"
   ]
  },
  {
   "cell_type": "code",
   "execution_count": null,
   "metadata": {},
   "outputs": [],
   "source": [
    "original, bkps, preprocessed = read_datafile(data_path, \"0.ref\")\n",
    "bkps\n",
    "n_sentences = len(preprocessed)"
   ]
  },
  {
   "cell_type": "code",
   "execution_count": null,
   "metadata": {},
   "outputs": [],
   "source": [
    "emb_dims = 20\n",
    "word2vec = Word2Vec(sentences=preprocessed, min_count=2, size=emb_dims, window=10)\n",
    "word2vec.train(\n",
    "    preprocessed, total_examples=word2vec.corpus_count, epochs=word2vec.epochs\n",
    ")  # train word vectors"
   ]
  },
  {
   "cell_type": "code",
   "execution_count": null,
   "metadata": {},
   "outputs": [],
   "source": [
    "vocab_keys = word2vec.wv.vocab.keys()\n",
    "in_vocab = [el for el in preprocessed[0] if el in vocab_keys]\n",
    "mean = np.zeros((1, emb_dims))\n",
    "for el in in_vocab:\n",
    "    mean = mean + word2vec.wv[el].reshape(1, -1)\n",
    "mean = mean / len(in_vocab)"
   ]
  },
  {
   "cell_type": "code",
   "execution_count": null,
   "metadata": {},
   "outputs": [],
   "source": [
    "mean"
   ]
  },
  {
   "cell_type": "code",
   "execution_count": null,
   "metadata": {},
   "outputs": [],
   "source": [
    "def get_embeddings_mean(word2vec_model, sentence):\n",
    "    mean = np.zeros((1, emb_dims))\n",
    "    vocab_keys = word2vec.wv.vocab.keys()\n",
    "    in_vocab = [el for el in sentence if el in vocab_keys]\n",
    "    if len(in_vocab) == 0:\n",
    "        return np.full((1, emb_dims), np.nan)\n",
    "    for el in in_vocab:\n",
    "        mean = mean + word2vec.wv[el].reshape(1, -1)\n",
    "    return mean / len(in_vocab)"
   ]
  },
  {
   "cell_type": "code",
   "execution_count": null,
   "metadata": {},
   "outputs": [],
   "source": [
    "res = np.zeros((n_sentences, emb_dims))\n",
    "for i in np.arange(n_sentences):\n",
    "    res[i, :] = get_embeddings_mean(word2vec, preprocessed[i])"
   ]
  },
  {
   "cell_type": "code",
   "execution_count": null,
   "metadata": {},
   "outputs": [],
   "source": [
    "plt.imshow(res)\n",
    "plt.show()"
   ]
  },
  {
   "cell_type": "code",
   "execution_count": null,
   "metadata": {},
   "outputs": [],
   "source": [
    "n_bkps = 9\n",
    "algo = rpt.KernelCPD(kernel=\"linear\", min_size=1, jump=1).fit(res)  # written in C\n",
    "result = algo.predict(n_bkps=n_bkps)"
   ]
  },
  {
   "cell_type": "code",
   "execution_count": null,
   "metadata": {},
   "outputs": [],
   "source": [
    "print(result)\n",
    "print(bkps)"
   ]
  },
  {
   "cell_type": "code",
   "execution_count": null,
   "metadata": {},
   "outputs": [],
   "source": [
    "fig, ax_array = rpt.display(res, bkps, result)"
   ]
  },
  {
   "cell_type": "code",
   "execution_count": null,
   "metadata": {},
   "outputs": [],
   "source": []
  }
 ],
 "metadata": {
  "kernelspec": {
   "display_name": "Python 3.6.8 64-bit ('ruptures': venv)",
   "metadata": {
    "interpreter": {
     "hash": "ba80f8bb6ed98fea8517dcb0f4e555fabb5e327f543d451dbff1b173f9c53678"
    }
   },
   "name": "python3"
  },
  "language_info": {
   "codemirror_mode": {
    "name": "ipython",
    "version": 3
   },
   "file_extension": ".py",
   "mimetype": "text/x-python",
   "name": "python",
   "nbconvert_exporter": "python",
   "pygments_lexer": "ipython3",
   "version": "3.6.8-final"
  }
 },
 "nbformat": 4,
 "nbformat_minor": 2
}
