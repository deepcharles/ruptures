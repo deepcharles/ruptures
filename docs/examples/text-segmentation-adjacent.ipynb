{
 "cells": [
  {
   "cell_type": "markdown",
   "metadata": {},
   "source": [
    "Replicate [Hearst](https://citeseerx.ist.psu.edu/viewdoc/download;jsessionid=D4FEFBD122DADCCB8F551299C6E99D29?doi=10.1.1.35.4491&rep=rep1&type=pdf)"
   ]
  },
  {
   "cell_type": "code",
   "execution_count": null,
   "metadata": {},
   "outputs": [],
   "source": [
    "import numpy as np\n",
    "import ruptures as rpt  # our package\n",
    "from os.path import join\n",
    "import matplotlib.pyplot as plt\n",
    "import itertools\n",
    "\n",
    "import re\n",
    "import string\n",
    "import nltk\n",
    "from nltk.tokenize import word_tokenize\n",
    "from nltk.stem import PorterStemmer\n",
    "from nltk.corpus import stopwords\n",
    "from sklearn.feature_extraction.text import CountVectorizer"
   ]
  },
  {
   "cell_type": "code",
   "execution_count": null,
   "metadata": {},
   "outputs": [],
   "source": [
    "# Downloaded from here : http://web.archive.org/web/20010422042459/http://www.cs.man.ac.uk/~choif/software/C99-1.2-release.tgz\n",
    "# Link found in paper : [Alemi & Ginsparg](https://arxiv.org/pdf/1503.05543.pdf)\n",
    "data_path = \"/Users/OBoulant/Downloads/naacl00Exp/data/1/9-11/\"\n",
    "\n",
    "\n",
    "def read_datafile(path: str, filename: str):\n",
    "    original = []\n",
    "    preprocessed = []\n",
    "    bkps = []\n",
    "    with open(join(path, filename)) as f:\n",
    "        lines = f.readlines()\n",
    "        for i, line in enumerate(lines):\n",
    "            if line == \"==========\\n\":\n",
    "                if len(original) > 0:\n",
    "                    bkps.append(i - 1 - len(bkps))\n",
    "                original.append(line)\n",
    "                continue\n",
    "            else:\n",
    "                # Original\n",
    "                original.append(line)\n",
    "                # Preprocess\n",
    "                line = re.sub(\"'s\", \"\", line)  # Remove \"'s\" strings\n",
    "                line = line.translate(\n",
    "                    str.maketrans(\"\", \"\", string.punctuation)\n",
    "                )  # Remove punctuation\n",
    "                text_tokens = word_tokenize(line)\n",
    "                ps = PorterStemmer()\n",
    "                text_tokens = [ps.stem(word) for word in text_tokens]\n",
    "                tokens_without_sw = [\n",
    "                    word for word in text_tokens if not word in stopwords.words()\n",
    "                ]  # Remove stopwords\n",
    "                # Append new document\n",
    "                preprocessed.append(tokens_without_sw)\n",
    "        return original, bkps, preprocessed"
   ]
  },
  {
   "cell_type": "code",
   "execution_count": null,
   "metadata": {},
   "outputs": [],
   "source": [
    "original, bkps, preprocessed = read_datafile(data_path, \"0.ref\")"
   ]
  },
  {
   "cell_type": "code",
   "execution_count": null,
   "metadata": {},
   "outputs": [],
   "source": [
    "bkps"
   ]
  },
  {
   "cell_type": "code",
   "execution_count": null,
   "metadata": {},
   "outputs": [],
   "source": [
    "def cosine_similarity_sk(s1: list, s2: list):\n",
    "    corpus = [\n",
    "        \" \".join(s1),\n",
    "        \" \".join(s2),\n",
    "    ]\n",
    "    vectorizer = CountVectorizer()\n",
    "    X = vectorizer.fit_transform(corpus).toarray()\n",
    "    cosine = np.sum(X[0, :] * X[1, :])\n",
    "    cosine = cosine / (np.sum(X[0, :] * X[0, :]) * np.sum(X[1, :] * X[1, :])) ** 0.5\n",
    "    return cosine"
   ]
  },
  {
   "cell_type": "code",
   "execution_count": null,
   "metadata": {},
   "outputs": [],
   "source": [
    "bla = cosine_similarity_sk(preprocessed[-1], preprocessed[-1])"
   ]
  },
  {
   "cell_type": "code",
   "execution_count": null,
   "metadata": {},
   "outputs": [],
   "source": [
    "bla"
   ]
  },
  {
   "cell_type": "code",
   "execution_count": null,
   "metadata": {},
   "outputs": [],
   "source": [
    "n_sentences = len(preprocessed)\n",
    "blocksize = 6"
   ]
  },
  {
   "cell_type": "code",
   "execution_count": null,
   "metadata": {
    "tags": []
   },
   "outputs": [],
   "source": [
    "res = np.zeros((n_sentences,))\n",
    "for i in np.arange(blocksize - 1, n_sentences - blocksize):\n",
    "    left_block = preprocessed[i - blocksize + 1 : i + 1]\n",
    "    right_block = preprocessed[i + 1 : i + 1 + blocksize]\n",
    "    res[i] = cosine_similarity_sk(\n",
    "        list(itertools.chain(*left_block)), list(itertools.chain(*right_block))\n",
    "    )"
   ]
  },
  {
   "cell_type": "code",
   "execution_count": null,
   "metadata": {},
   "outputs": [],
   "source": [
    "n_bkps = 9\n",
    "algo = rpt.KernelCPD(kernel=\"linear\", min_size=blocksize, jump=1).fit(\n",
    "    res[blocksize - 1 : -blocksize - 1]\n",
    ")  # written in C\n",
    "result = algo.predict(n_bkps=n_bkps)"
   ]
  },
  {
   "cell_type": "code",
   "execution_count": null,
   "metadata": {},
   "outputs": [],
   "source": [
    "result = [el + blocksize - 1 for el in result]\n",
    "print(result)\n",
    "print(bkps)"
   ]
  },
  {
   "cell_type": "code",
   "execution_count": null,
   "metadata": {},
   "outputs": [],
   "source": [
    "print(len(bkps))\n",
    "print(len(result))"
   ]
  },
  {
   "cell_type": "code",
   "execution_count": null,
   "metadata": {},
   "outputs": [],
   "source": [
    "fig, ax_array = rpt.display(res, bkps, result)"
   ]
  },
  {
   "cell_type": "code",
   "execution_count": null,
   "metadata": {},
   "outputs": [],
   "source": []
  }
 ],
 "metadata": {
  "kernelspec": {
   "display_name": "ruptures",
   "language": "python",
   "name": "ruptures"
  },
  "language_info": {
   "codemirror_mode": {
    "name": "ipython",
    "version": 3
   },
   "file_extension": ".py",
   "mimetype": "text/x-python",
   "name": "python",
   "nbconvert_exporter": "python",
   "pygments_lexer": "ipython3",
   "version": "3.6.8-final"
  }
 },
 "nbformat": 4,
 "nbformat_minor": 2
}
